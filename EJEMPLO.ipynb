{
 "cells": [
  {
   "cell_type": "markdown",
   "id": "ba5eac32",
   "metadata": {},
   "source": [
    "\n",
    "# =======================================================\n",
    "# El Modelo Mundell-Fleming para una Economía Abierta 📈\n",
    "# =======================================================\n",
    "\"\"\"\n",
    "Este cuaderno explica el modelo Mundell-Fleming, una extensión del famoso modelo IS-LM. Su propósito es describir el funcionamiento de una **pequeña economía abierta** en el corto plazo, donde el nivel de precios se asume como fijo.\n",
    "\n",
    "Los supuestos clave son:\n",
    "* **Pequeña Economía Abierta:** El país no puede influir en la tasa de interés mundial.\n",
    "* **Perfecta Movilidad de Capitales:** No existen barreras para la entrada o salida de capitales. Esto fuerza a que la tasa de interés local ($r$) sea igual a la tasa de interés mundial ($r^*$).\n",
    "* **Precios Fijos:** Se analiza el corto plazo, por lo que la inflación no es una variable de ajuste.\n",
    "\"\"\""
   ]
  },
  {
   "cell_type": "markdown",
   "id": "b3aed27d",
   "metadata": {},
   "source": [
    "\n",
    "# =======================================\n",
    "##  1. Mercado de Bienes (La Curva IS*)\n",
    "# =======================================\n",
    "\"\"\"\n",
    "\n",
    "La curva **IS*** muestra las combinaciones de tipo de cambio ($e$) y renta ($Y$) que mantienen en equilibrio el mercado de bienes. Su ecuación es:\n",
    "$$ Y = C(Y-T) + I(r^*) + G + NX(e) $$\n",
    "Tiene **pendiente negativa**: si el tipo de cambio ($e$) sube (apreciación), las exportaciones netas ($NX$) caen, lo que reduce la renta de equilibrio ($Y$).\n",
    "\"\"\""
   ]
  },
  {
   "cell_type": "code",
   "execution_count": null,
   "id": "922f1b82",
   "metadata": {},
   "outputs": [
    {
     "data": {
      "application/vnd.jupyter.widget-view+json": {
       "model_id": "195b777f9b0e4c529c4fadd46d86a7d3",
       "version_major": 2,
       "version_minor": 0
      },
      "text/plain": [
       "HBox(children=(VBox(children=(VBox(children=(Label(value='Gasto Público (g0):'), FloatSlider(value=200.0, layo…"
      ]
     },
     "metadata": {},
     "output_type": "display_data"
    },
    {
     "data": {
      "application/vnd.jupyter.widget-view+json": {
       "model_id": "fef44fd70ab941878f6877718c486724",
       "version_major": 2,
       "version_minor": 0
      },
      "text/plain": [
       "HBox(children=(VBox(children=(VBox(children=(Label(value='Oferta Monetaria (Ms):'), FloatSlider(value=150.0, l…"
      ]
     },
     "metadata": {},
     "output_type": "display_data"
    },
    {
     "data": {
      "application/vnd.jupyter.widget-view+json": {
       "model_id": "5f9dc564c6e54584850ec610f67810df",
       "version_major": 2,
       "version_minor": 0
      },
      "text/plain": [
       "HBox(children=(VBox(children=(VBox(children=(Label(value='Gasto Público (g0):'), FloatSlider(value=200.0, layo…"
      ]
     },
     "execution_count": 1,
     "metadata": {},
     "output_type": "execute_result"
    }
   ],
   "source": [
    "# Importa la función desde el archivo que está en la carpeta \"Graficas\"\n",
    "from GraphsCode import crear_grafica_mercado_bienes\n",
    "\n",
    "# Llama a la función para crear y mostrar la gráfica interactiva\n",
    "crear_grafica_mercado_bienes()"
   ]
  },
  {
   "cell_type": "markdown",
   "id": "68f60925",
   "metadata": {},
   "source": [
    "\"\"\"\n",
    "# =======================================\n",
    "## 2. Mercado de Dinero (La Curva LM*)\n",
    "# =======================================\n",
    "\n",
    "\n",
    "La curva **LM*** se deriva del equilibrio en el mercado monetario:\n",
    "$$ \\\\frac{M}{P} = L(r^*, Y) $$\n",
    "Dado que el tipo de cambio ($e$) no afecta el equilibrio monetario, y la tasa de interés está fija en $r^*$, el nivel de renta ($Y$) que equilibra el mercado es único. Por lo tanto, la curva **LM*** es una **línea vertical**.\n",
    "\"\"\""
   ]
  },
  {
   "cell_type": "code",
   "execution_count": null,
   "id": "39800205",
   "metadata": {},
   "outputs": [
    {
     "data": {
      "application/vnd.jupyter.widget-view+json": {
       "model_id": "7d7523cb1b2340b2910a6579df4f5b7c",
       "version_major": 2,
       "version_minor": 0
      },
      "text/plain": [
       "HBox(children=(VBox(children=(VBox(children=(Label(value='Oferta Monetaria (Ms):'), FloatSlider(value=150.0, l…"
      ]
     },
     "execution_count": 2,
     "metadata": {},
     "output_type": "execute_result"
    }
   ],
   "source": [
    "# Importa la función desde el archivo que está en la carpeta \"Graficas\"\n",
    "from GraphsCode import crear_grafica_mercado_dinero\n",
    "\n",
    "# Llama a la función para crear y mostrar la gráfica interactiva\n",
    "crear_grafica_mercado_dinero()"
   ]
  }
 ],
 "metadata": {
  "kernelspec": {
   "display_name": "base",
   "language": "python",
   "name": "python3"
  },
  "language_info": {
   "codemirror_mode": {
    "name": "ipython",
    "version": 3
   },
   "file_extension": ".py",
   "mimetype": "text/x-python",
   "name": "python",
   "nbconvert_exporter": "python",
   "pygments_lexer": "ipython3",
   "version": "3.13.5"
  }
 },
 "nbformat": 4,
 "nbformat_minor": 5
}
