{
 "cells": [
  {
   "cell_type": "markdown",
   "id": "57a416f3",
   "metadata": {},
   "source": [
    "\n",
    "# =======================================\n",
    "##  1. Mercado de Bienes (La Curva IS*)\n",
    "# =======================================\n",
    "\"\"\"\n",
    "\n",
    "La curva **IS*** muestra las combinaciones de tipo de cambio ($e$) y renta ($Y$) que mantienen en equilibrio el mercado de bienes. Su ecuación es:\n",
    "$$ Y = C(Y-T) + I(r^*) + G + NX(e) $$\n",
    "Tiene **pendiente negativa**: si el tipo de cambio ($e$) sube (apreciación), las exportaciones netas ($NX$) caen, lo que reduce la renta de equilibrio ($Y$).\n",
    "\"\"\""
   ]
  },
  {
   "cell_type": "markdown",
   "id": "f5ad72f6",
   "metadata": {},
   "source": [
    "\"\"\"\n",
    "# =======================================\n",
    "## 2. Mercado de Dinero (La Curva LM*)\n",
    "# =======================================\n",
    "\n",
    "\n",
    "La curva **LM*** se deriva del equilibrio en el mercado monetario:\n",
    "$$ \\\\frac{M}{P} = L(r^*, Y) $$\n",
    "Dado que el tipo de cambio ($e$) no afecta el equilibrio monetario, y la tasa de interés está fija en $r^*$, el nivel de renta ($Y$) que equilibra el mercado es único. Por lo tanto, la curva **LM*** es una **línea vertical**.\n",
    "\"\"\"\n"
   ]
  },
  {
   "cell_type": "markdown",
   "id": "d8816e5f",
   "metadata": {},
   "source": [
    "# =======================================\n",
    "## 3. Equilibrio del Modelo  (IS*-LM*)\n",
    "# =======================================\n",
    "\"\"\"\n",
    "\n",
    "El equilibrio macroeconómico se encuentra en la **intersección de las curvas IS* y LM***. Este punto determina simultáneamente el nivel de renta ($Y_0$) y el tipo de cambio ($e_0$) de equilibrio.\n",
    "\"\"\""
   ]
  },
  {
   "cell_type": "markdown",
   "id": "0f0d13e9",
   "metadata": {},
   "source": [
    "# =======================================\n",
    "## 4. Análisis de Políticas Económicas\n",
    "# =======================================\n",
    "\"\"\"\n",
    "\n",
    "\n",
    "A continuación, analizamos el impacto de las políticas fiscal y monetaria bajo regímenes de tipo de cambio flexible y fijo.\n",
    "\n",
    "### A. Tipo de Cambio Flexible\n",
    "\n",
    "El tipo de cambio ($e$) se ajusta libremente para mantener el equilibrio.\n",
    "\"\"\""
   ]
  },
  {
   "cell_type": "markdown",
   "id": "c4bdec2f",
   "metadata": {},
   "source": []
  }
 ],
 "metadata": {
  "kernelspec": {
   "display_name": "base",
   "language": "python",
   "name": "python3"
  },
  "language_info": {
   "codemirror_mode": {
    "name": "ipython",
    "version": 3
   },
   "file_extension": ".py",
   "mimetype": "text/x-python",
   "name": "python",
   "nbconvert_exporter": "python",
   "pygments_lexer": "ipython3",
   "version": "3.13.5"
  }
 },
 "nbformat": 4,
 "nbformat_minor": 5
}
