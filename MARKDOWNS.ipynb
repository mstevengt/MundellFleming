{
 "cells": [
  {
   "cell_type": "markdown",
   "id": "57a416f3",
   "metadata": {},
   "source": [
    "\n",
    "# =======================================\n",
    "##  1. Mercado de Bienes (La Curva IS*)\n",
    "# =======================================\n",
    "\"\"\"\n",
    "\n",
    "La curva **IS*** muestra las combinaciones de tipo de cambio ($e$) y renta ($Y$) que mantienen en equilibrio el mercado de bienes. Su ecuación es:\n",
    "$$ Y = C(Y-T) + I(r^*) + G + NX(e) $$\n",
    "Tiene **pendiente negativa**: si el tipo de cambio ($e$) sube (apreciación), las exportaciones netas ($NX$) caen, lo que reduce la renta de equilibrio ($Y$).\n",
    "\"\"\""
   ]
  },
  {
   "cell_type": "markdown",
   "id": "f5ad72f6",
   "metadata": {},
   "source": [
    "# =======================================\n",
    "## 2. Mercado de Dinero (La Curva LM*)\n",
    "# =======================================\n",
    "\n",
    "\n",
    "La curva **LM*** se deriva del equilibrio en el mercado monetario:\n",
    "$$ \\\\frac{M}{P} = L(r^*, Y) $$\n",
    "Dado que el tipo de cambio ($e$) no afecta el equilibrio monetario, y la tasa de interés está fija en $r^*$, el nivel de renta ($Y$) que equilibra el mercado es único. Por lo tanto, la curva **LM*** es una **línea vertical**."
   ]
  },
  {
   "cell_type": "markdown",
   "id": "d8816e5f",
   "metadata": {},
   "source": [
    "# =======================================\n",
    "# 3. Mercado de Divisas\n",
    "# =======================================\n",
    "\"\"\"\n",
    "El mercado de divisas está en equilibrio cuando se cumple la **paridad de intereses no cubierta**:\n",
    "$$ R = R^* + \\frac{E^e - E}{E} $$\n",
    "Donde:\n",
    "- $R$ es la tasa de interés nacional.\n",
    "- $R^*$ es la tasa de interés mundial.\n",
    "- $E$ es el tipo de cambio spot (unidades de moneda nacional por una unidad de moneda extranjera).\n",
    "- $E^e$ es el tipo de cambio esperado a futuro.\n",
    "\n",
    "Esta condición establece que el rendimiento esperado de los depósitos en moneda nacional debe ser igual al rendimiento esperado de los depósitos en moneda extranjera, ajustado por la depreciación o apreciación esperada del tipo de cambio.\n",
    "\"\"\""
   ]
  },
  {
   "cell_type": "markdown",
   "id": "0f0d13e9",
   "metadata": {},
   "source": [
    "# =======================================\n",
    "# 6. Descripción Matemática del Modelo DD-AA\n",
    "# =======================================\n",
    "\n",
    "\"\"\"\n",
    "El modelo DD-AA es el núcleo del análisis de Krugman para economías abiertas con tipos de cambio flexibles.\n",
    "\n",
    "### A. La Curva DD (Equilibrio en el Mercado de Bienes)\n",
    "\n",
    "Representa las combinaciones de ($Y, E$) donde la demanda agregada ($D$) es igual a la producción ($Y$).\n",
    "\n",
    "La ecuación de la demanda agregada es:\n",
    "$$ D = C(Y-T) + I(r^*) + G + NX(E, Y) $$\n",
    "El equilibrio se da cuando $Y = D$.\n",
    "\n",
    "- **Pendiente**: **Positiva**. Una depreciación del tipo de cambio (aumento de $E$) aumenta las exportaciones netas ($NX$), lo que eleva la producción de equilibrio ($Y$).\n",
    "\n",
    "### B. La Curva AA (Equilibrio en el Mercado de Activos)\n",
    "\n",
    "Representa las combinaciones de ($Y, E$) donde el mercado monetario y el de divisas están en equilibrio simultáneamente. Combina dos condiciones:\n",
    "\n",
    "1.  **Equilibrio Monetario**: $ \\frac{M}{P} = L(R, Y) $\n",
    "2.  **Paridad de Intereses**: $ R = R^* + \\frac{E^e - E}{E} $\n",
    "\n",
    "Sustituyendo (2) en (1), obtenemos la relación que define la curva AA.\n",
    "\n",
    "- **Pendiente**: **Negativa**. Un aumento de la producción ($Y$) eleva la demanda de dinero y, por tanto, la tasa de interés interna ($R$). Para mantener la paridad de intereses, el tipo de cambio ($E$) debe apreciarse (disminuir).\n",
    "\n",
    "### C. Equilibrio General\n",
    "\n",
    "El equilibrio a corto plazo de la economía se encuentra en la **intersección de las curvas DD y AA**, determinando los niveles de producción ($Y_0$) y tipo de cambio ($E_0$) que equilibran todos los mercados simultáneamente.\n",
    "\"\"\""
   ]
  },
  {
   "cell_type": "markdown",
   "id": "c4bdec2f",
   "metadata": {},
   "source": []
  }
 ],
 "metadata": {
  "kernelspec": {
   "display_name": "base",
   "language": "python",
   "name": "python3"
  },
  "language_info": {
   "codemirror_mode": {
    "name": "ipython",
    "version": 3
   },
   "file_extension": ".py",
   "mimetype": "text/x-python",
   "name": "python",
   "nbconvert_exporter": "python",
   "pygments_lexer": "ipython3",
   "version": "3.13.5"
  }
 },
 "nbformat": 4,
 "nbformat_minor": 5
}
