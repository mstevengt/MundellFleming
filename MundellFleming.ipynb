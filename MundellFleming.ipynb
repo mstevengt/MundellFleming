{
 "cells": [
  {
   "cell_type": "markdown",
   "metadata": {},
   "source": [
    "## Dashboard Interactivo del Modelo Mundell-Fleming\n",
    "\n",
    "Este notebook contiene el código para generar un dashboard interactivo del modelo Mundell-Fleming. Permite visualizar los efectos de políticas fiscales, monetarias y shocks cambiarios en una economía abierta con tipo de cambio flexible."
   ]
  },
  {
   "cell_type": "markdown",
   "metadata": {},
   "source": [
    "# =======================================\n",
    "# 4. Descripción Matemática del Modelo DD-AA\n",
    "# =======================================\n",
    "\n",
    "\"\"\"\n",
    "El modelo DD-AA es el núcleo del análisis de Krugman para economías abiertas con tipos de cambio flexibles.\n",
    "\n",
    "### A. La Curva DD (Equilibrio en el Mercado de Bienes)\n",
    "\n",
    "Representa las combinaciones de ($Y, E$) donde la demanda agregada ($D$) es igual a la producción ($Y$).\n",
    "\n",
    "La ecuación de la demanda agregada es:\n",
    "$$ D = C(Y-T) + I(r^*) + G + NX(E, Y) $$\n",
    "El equilibrio se da cuando $Y = D$.\n",
    "\n",
    "- **Pendiente**: **Positiva**. Una depreciación del tipo de cambio (aumento de $E$) aumenta las exportaciones netas ($NX$), lo que eleva la producción de equilibrio ($Y$).\n",
    "\n",
    "### B. La Curva AA (Equilibrio en el Mercado de Activos)\n",
    "\n",
    "Representa las combinaciones de ($Y, E$) donde el mercado monetario y el de divisas están en equilibrio simultáneamente. Combina dos condiciones:\n",
    "\n",
    "1.  **Equilibrio Monetario**: $ \\frac{M}{P} = L(R, Y) $\n",
    "2.  **Paridad de Intereses**: $ R = R^* + \\frac{E^e - E}{E} $\n",
    "\n",
    "Sustituyendo (2) en (1), obtenemos la relación que define la curva AA.\n",
    "\n",
    "- **Pendiente**: **Negativa**. Un aumento de la producción ($Y$) eleva la demanda de dinero y, por tanto, la tasa de interés interna ($R$). Para mantener la paridad de intereses, el tipo de cambio ($E$) debe apreciarse (disminuir).\n",
    "\n",
    "### C. Equilibrio General\n",
    "\n",
    "El equilibrio a corto plazo de la economía se encuentra en la **intersección de las curvas DD y AA**, determinando los niveles de producción ($Y_0$) y tipo de cambio ($E_0$) que equilibran todos los mercados simultáneamente.\n",
    "\"\"\""
   ]
  }
 ],
 "metadata": {
  "kernelspec": {
   "display_name": "base",
   "language": "python",
   "name": "python3"
  },
  "language_info": {
   "codemirror_mode": {
    "name": "ipython",
    "version": 3
   },
   "file_extension": ".py",
   "mimetype": "text/x-python",
   "name": "python",
   "nbconvert_exporter": "python",
   "pygments_lexer": "ipython3",
   "version": "3.13.5"
  }
 },
 "nbformat": 4,
 "nbformat_minor": 4
}
